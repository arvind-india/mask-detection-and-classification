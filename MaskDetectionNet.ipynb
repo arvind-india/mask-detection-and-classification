{
 "cells": [
  {
   "cell_type": "code",
   "execution_count": null,
   "metadata": {},
   "outputs": [],
   "source": [
    "import torch \n",
    "import torchvision.models as models\n",
    "import torchvision.transforms as transforms\n",
    "import torchvision.datasets as datasets\n",
    "import matplotlib.pyplot as plt\n",
    "import random"
   ]
  },
  {
   "cell_type": "code",
   "execution_count": 0,
   "metadata": {
    "colab": {},
    "colab_type": "code",
    "id": "fubZTg8AUSM6"
   },
   "outputs": [],
   "source": [
    "dir_name = \"/content/train/\" #Path to images directory\n",
    "label_0_dir = dir_name + \"0/\"\n",
    "label_1_dir = dir_name + \"1/\"\n",
    "models_dir = \"/content/modelsRes18/\" #Path to save models"
   ]
  },
  {
   "cell_type": "code",
   "execution_count": 16,
   "metadata": {
    "colab": {
     "base_uri": "https://localhost:8080/",
     "height": 35
    },
    "colab_type": "code",
    "executionInfo": {
     "elapsed": 747,
     "status": "ok",
     "timestamp": 1589021904203,
     "user": {
      "displayName": "Sashank Kakaraparty",
      "photoUrl": "https://lh3.googleusercontent.com/a-/AOh14GjhZbFT_slK4H9Q-VSi_-kgtj3HFlsX_UDZQmF_jA=s64",
      "userId": "02707948034374903939"
     },
     "user_tz": -330
    },
    "id": "mC4-enE-Uwos",
    "outputId": "a73ecc83-1ffb-48d4-d2db-209017fafbd8"
   },
   "outputs": [
    {
     "data": {
      "text/plain": [
       "device(type='cuda')"
      ]
     },
     "execution_count": 16,
     "metadata": {
      "tags": []
     },
     "output_type": "execute_result"
    }
   ],
   "source": [
    "device = torch.device(\"cuda\" if torch.cuda.is_available() else \"cpu\")\n",
    "device"
   ]
  },
  {
   "cell_type": "code",
   "execution_count": 0,
   "metadata": {
    "colab": {},
    "colab_type": "code",
    "id": "3odokIQ9IyyO"
   },
   "outputs": [],
   "source": [
    "model18 = models.resnet18(pretrained=True)"
   ]
  },
  {
   "cell_type": "code",
   "execution_count": 0,
   "metadata": {
    "colab": {},
    "colab_type": "code",
    "id": "RWMDPrSyKvNM"
   },
   "outputs": [],
   "source": [
    "model = model18"
   ]
  },
  {
   "cell_type": "code",
   "execution_count": 0,
   "metadata": {
    "colab": {},
    "colab_type": "code",
    "id": "R2bHC7SqU1qx"
   },
   "outputs": [],
   "source": [
    "for layer, param in model.named_parameters():\n",
    "    \n",
    "  if 'layer4' not in layer:\n",
    "    param.requires_grad = False\n",
    "    \n",
    "model.fc = torch.nn.Linear(model.fc.in_features, 2)"
   ]
  },
  {
   "cell_type": "code",
   "execution_count": 0,
   "metadata": {
    "colab": {},
    "colab_type": "code",
    "id": "7xT0ZyiTIRVS"
   },
   "outputs": [],
   "source": [
    "train_transforms = transforms.Compose([\n",
    "    transforms.Resize((224,224)),\n",
    "    transforms.ToTensor(),\n",
    "    transforms.Normalize((0.5,0.5,0.5), (0.5,0.5,0.5))\n",
    "    ])"
   ]
  },
  {
   "cell_type": "code",
   "execution_count": 44,
   "metadata": {
    "colab": {
     "base_uri": "https://localhost:8080/",
     "height": 89
    },
    "colab_type": "code",
    "executionInfo": {
     "elapsed": 673,
     "status": "ok",
     "timestamp": 1589022900915,
     "user": {
      "displayName": "Sashank Kakaraparty",
      "photoUrl": "https://lh3.googleusercontent.com/a-/AOh14GjhZbFT_slK4H9Q-VSi_-kgtj3HFlsX_UDZQmF_jA=s64",
      "userId": "02707948034374903939"
     },
     "user_tz": -330
    },
    "id": "jjhGS-PNMJBZ",
    "outputId": "7d5e43a6-9420-4eb7-c065-50fb52c2cc8d"
   },
   "outputs": [
    {
     "name": "stdout",
     "output_type": "stream",
     "text": [
      "Dataset size:  3788\n",
      "Train set size:  2272\n",
      "Validation set size:  757\n",
      "Test set size:  759\n"
     ]
    }
   ],
   "source": [
    "dataset = datasets.ImageFolder(dir_name, transform = train_transforms)\n",
    "\n",
    "dataset_size = len(dataset)\n",
    "train_size = int(dataset_size * 0.6)\n",
    "val_size = int(dataset_size * 0.2)\n",
    "test_size = dataset_size - train_size - val_size\n",
    "\n",
    "train_dataset, val_dataset, test_dataset = torch.utils.data.random_split(dataset, [train_size, val_size, test_size])\n",
    "\n",
    "print('Dataset size: ', len(dataset))\n",
    "print('Train set size: ', len(train_dataset))\n",
    "print('Validation set size: ', len(val_dataset))\n",
    "print('Test set size: ', len(test_dataset))"
   ]
  },
  {
   "cell_type": "code",
   "execution_count": 0,
   "metadata": {
    "colab": {},
    "colab_type": "code",
    "id": "-xuCXV25M02G"
   },
   "outputs": [],
   "source": [
    "BATCH_SIZE = 20\n",
    "\n",
    "train_loader = torch.utils.data.DataLoader(train_dataset,\n",
    "                                          batch_size=BATCH_SIZE,\n",
    "                                          shuffle=True)\n",
    "\n",
    "val_loader = torch.utils.data.DataLoader(val_dataset,\n",
    "                                          batch_size=BATCH_SIZE,\n",
    "                                          shuffle=True)\n",
    "\n",
    "test_loader = torch.utils.data.DataLoader(test_dataset,\n",
    "                                          batch_size=BATCH_SIZE,\n",
    "                                          shuffle=True)"
   ]
  },
  {
   "cell_type": "code",
   "execution_count": 0,
   "metadata": {
    "colab": {},
    "colab_type": "code",
    "id": "N5xAQm1hNZi4"
   },
   "outputs": [],
   "source": [
    "LEARNING_RATE = 0.001\n",
    "\n",
    "criterion = torch.nn.CrossEntropyLoss()\n",
    "optimizer = torch.optim.Adam(model.parameters(), lr = LEARNING_RATE)"
   ]
  },
  {
   "cell_type": "code",
   "execution_count": 47,
   "metadata": {
    "colab": {
     "base_uri": "https://localhost:8080/",
     "height": 1000
    },
    "colab_type": "code",
    "executionInfo": {
     "elapsed": 1143,
     "status": "ok",
     "timestamp": 1589023054922,
     "user": {
      "displayName": "Sashank Kakaraparty",
      "photoUrl": "https://lh3.googleusercontent.com/a-/AOh14GjhZbFT_slK4H9Q-VSi_-kgtj3HFlsX_UDZQmF_jA=s64",
      "userId": "02707948034374903939"
     },
     "user_tz": -330
    },
    "id": "P1MIUJZaNbTV",
    "outputId": "b365c7ce-4940-455a-cdad-e71dd977adfd"
   },
   "outputs": [
    {
     "data": {
      "text/plain": [
       "ResNet(\n",
       "  (conv1): Conv2d(3, 64, kernel_size=(7, 7), stride=(2, 2), padding=(3, 3), bias=False)\n",
       "  (bn1): BatchNorm2d(64, eps=1e-05, momentum=0.1, affine=True, track_running_stats=True)\n",
       "  (relu): ReLU(inplace=True)\n",
       "  (maxpool): MaxPool2d(kernel_size=3, stride=2, padding=1, dilation=1, ceil_mode=False)\n",
       "  (layer1): Sequential(\n",
       "    (0): BasicBlock(\n",
       "      (conv1): Conv2d(64, 64, kernel_size=(3, 3), stride=(1, 1), padding=(1, 1), bias=False)\n",
       "      (bn1): BatchNorm2d(64, eps=1e-05, momentum=0.1, affine=True, track_running_stats=True)\n",
       "      (relu): ReLU(inplace=True)\n",
       "      (conv2): Conv2d(64, 64, kernel_size=(3, 3), stride=(1, 1), padding=(1, 1), bias=False)\n",
       "      (bn2): BatchNorm2d(64, eps=1e-05, momentum=0.1, affine=True, track_running_stats=True)\n",
       "    )\n",
       "    (1): BasicBlock(\n",
       "      (conv1): Conv2d(64, 64, kernel_size=(3, 3), stride=(1, 1), padding=(1, 1), bias=False)\n",
       "      (bn1): BatchNorm2d(64, eps=1e-05, momentum=0.1, affine=True, track_running_stats=True)\n",
       "      (relu): ReLU(inplace=True)\n",
       "      (conv2): Conv2d(64, 64, kernel_size=(3, 3), stride=(1, 1), padding=(1, 1), bias=False)\n",
       "      (bn2): BatchNorm2d(64, eps=1e-05, momentum=0.1, affine=True, track_running_stats=True)\n",
       "    )\n",
       "  )\n",
       "  (layer2): Sequential(\n",
       "    (0): BasicBlock(\n",
       "      (conv1): Conv2d(64, 128, kernel_size=(3, 3), stride=(2, 2), padding=(1, 1), bias=False)\n",
       "      (bn1): BatchNorm2d(128, eps=1e-05, momentum=0.1, affine=True, track_running_stats=True)\n",
       "      (relu): ReLU(inplace=True)\n",
       "      (conv2): Conv2d(128, 128, kernel_size=(3, 3), stride=(1, 1), padding=(1, 1), bias=False)\n",
       "      (bn2): BatchNorm2d(128, eps=1e-05, momentum=0.1, affine=True, track_running_stats=True)\n",
       "      (downsample): Sequential(\n",
       "        (0): Conv2d(64, 128, kernel_size=(1, 1), stride=(2, 2), bias=False)\n",
       "        (1): BatchNorm2d(128, eps=1e-05, momentum=0.1, affine=True, track_running_stats=True)\n",
       "      )\n",
       "    )\n",
       "    (1): BasicBlock(\n",
       "      (conv1): Conv2d(128, 128, kernel_size=(3, 3), stride=(1, 1), padding=(1, 1), bias=False)\n",
       "      (bn1): BatchNorm2d(128, eps=1e-05, momentum=0.1, affine=True, track_running_stats=True)\n",
       "      (relu): ReLU(inplace=True)\n",
       "      (conv2): Conv2d(128, 128, kernel_size=(3, 3), stride=(1, 1), padding=(1, 1), bias=False)\n",
       "      (bn2): BatchNorm2d(128, eps=1e-05, momentum=0.1, affine=True, track_running_stats=True)\n",
       "    )\n",
       "  )\n",
       "  (layer3): Sequential(\n",
       "    (0): BasicBlock(\n",
       "      (conv1): Conv2d(128, 256, kernel_size=(3, 3), stride=(2, 2), padding=(1, 1), bias=False)\n",
       "      (bn1): BatchNorm2d(256, eps=1e-05, momentum=0.1, affine=True, track_running_stats=True)\n",
       "      (relu): ReLU(inplace=True)\n",
       "      (conv2): Conv2d(256, 256, kernel_size=(3, 3), stride=(1, 1), padding=(1, 1), bias=False)\n",
       "      (bn2): BatchNorm2d(256, eps=1e-05, momentum=0.1, affine=True, track_running_stats=True)\n",
       "      (downsample): Sequential(\n",
       "        (0): Conv2d(128, 256, kernel_size=(1, 1), stride=(2, 2), bias=False)\n",
       "        (1): BatchNorm2d(256, eps=1e-05, momentum=0.1, affine=True, track_running_stats=True)\n",
       "      )\n",
       "    )\n",
       "    (1): BasicBlock(\n",
       "      (conv1): Conv2d(256, 256, kernel_size=(3, 3), stride=(1, 1), padding=(1, 1), bias=False)\n",
       "      (bn1): BatchNorm2d(256, eps=1e-05, momentum=0.1, affine=True, track_running_stats=True)\n",
       "      (relu): ReLU(inplace=True)\n",
       "      (conv2): Conv2d(256, 256, kernel_size=(3, 3), stride=(1, 1), padding=(1, 1), bias=False)\n",
       "      (bn2): BatchNorm2d(256, eps=1e-05, momentum=0.1, affine=True, track_running_stats=True)\n",
       "    )\n",
       "  )\n",
       "  (layer4): Sequential(\n",
       "    (0): BasicBlock(\n",
       "      (conv1): Conv2d(256, 512, kernel_size=(3, 3), stride=(2, 2), padding=(1, 1), bias=False)\n",
       "      (bn1): BatchNorm2d(512, eps=1e-05, momentum=0.1, affine=True, track_running_stats=True)\n",
       "      (relu): ReLU(inplace=True)\n",
       "      (conv2): Conv2d(512, 512, kernel_size=(3, 3), stride=(1, 1), padding=(1, 1), bias=False)\n",
       "      (bn2): BatchNorm2d(512, eps=1e-05, momentum=0.1, affine=True, track_running_stats=True)\n",
       "      (downsample): Sequential(\n",
       "        (0): Conv2d(256, 512, kernel_size=(1, 1), stride=(2, 2), bias=False)\n",
       "        (1): BatchNorm2d(512, eps=1e-05, momentum=0.1, affine=True, track_running_stats=True)\n",
       "      )\n",
       "    )\n",
       "    (1): BasicBlock(\n",
       "      (conv1): Conv2d(512, 512, kernel_size=(3, 3), stride=(1, 1), padding=(1, 1), bias=False)\n",
       "      (bn1): BatchNorm2d(512, eps=1e-05, momentum=0.1, affine=True, track_running_stats=True)\n",
       "      (relu): ReLU(inplace=True)\n",
       "      (conv2): Conv2d(512, 512, kernel_size=(3, 3), stride=(1, 1), padding=(1, 1), bias=False)\n",
       "      (bn2): BatchNorm2d(512, eps=1e-05, momentum=0.1, affine=True, track_running_stats=True)\n",
       "    )\n",
       "  )\n",
       "  (avgpool): AdaptiveAvgPool2d(output_size=(1, 1))\n",
       "  (fc): Linear(in_features=512, out_features=2, bias=True)\n",
       ")"
      ]
     },
     "execution_count": 47,
     "metadata": {
      "tags": []
     },
     "output_type": "execute_result"
    }
   ],
   "source": [
    "model.to(device)"
   ]
  },
  {
   "cell_type": "code",
   "execution_count": 48,
   "metadata": {
    "colab": {
     "base_uri": "https://localhost:8080/",
     "height": 395
    },
    "colab_type": "code",
    "executionInfo": {
     "elapsed": 202013,
     "status": "ok",
     "timestamp": 1589023265658,
     "user": {
      "displayName": "Sashank Kakaraparty",
      "photoUrl": "https://lh3.googleusercontent.com/a-/AOh14GjhZbFT_slK4H9Q-VSi_-kgtj3HFlsX_UDZQmF_jA=s64",
      "userId": "02707948034374903939"
     },
     "user_tz": -330
    },
    "id": "atDr4woJNeGn",
    "outputId": "81a15247-77f0-4a67-e2c3-c2e3b2250833"
   },
   "outputs": [
    {
     "name": "stdout",
     "output_type": "stream",
     "text": [
      "EPOCH: 0 , Training Loss: 5.157025273016188 , Validation Loss: 0.5413916584220715 , Accuracy:  0.9973579920739762\n",
      "Model saved\n",
      "EPOCH: 1 , Training Loss: 1.00443336526223 , Validation Loss: 1.3244673720328137 , Accuracy:  0.9867899603698811\n",
      "EPOCH: 2 , Training Loss: 0.7806696451370954 , Validation Loss: 1.023388894594973 , Accuracy:  0.9894319682959049\n",
      "EPOCH: 3 , Training Loss: 1.0875125254478917 , Validation Loss: 1.2635807456972543 , Accuracy:  0.9907529722589168\n",
      "EPOCH: 4 , Training Loss: 1.079637612307124 , Validation Loss: 1.2519135597940476 , Accuracy:  0.9907529722589168\n",
      "EPOCH: 5 , Training Loss: 0.5180802304403187 , Validation Loss: 1.492515321982637 , Accuracy:  0.9933949801849405\n",
      "EPOCH: 6 , Training Loss: 0.2549463428067611 , Validation Loss: 1.1912097698764228 , Accuracy:  0.9907529722589168\n",
      "EPOCH: 7 , Training Loss: 1.2711125967730368 , Validation Loss: 1.2138547142822063 , Accuracy:  0.9920739762219286\n",
      "EPOCH: 8 , Training Loss: 0.2062683579615623 , Validation Loss: 0.5772798236102972 , Accuracy:  0.9933949801849405\n",
      "EPOCH: 9 , Training Loss: 0.35820914014175287 , Validation Loss: 0.8544873510472826 , Accuracy:  0.9947159841479525\n",
      "EPOCH: 10 , Training Loss: 1.7717292575944157 , Validation Loss: 1.3933933644293575 , Accuracy:  0.9907529722589168\n",
      "EPOCH: 11 , Training Loss: 0.7145379862522532 , Validation Loss: 1.1162813368173374 , Accuracy:  0.9907529722589168\n",
      "EPOCH: 12 , Training Loss: 0.16455817846053833 , Validation Loss: 1.5964546990903727 , Accuracy:  0.9867899603698811\n",
      "EPOCH: 13 , Training Loss: 0.34698730430494606 , Validation Loss: 1.5621698164193276 , Accuracy:  0.9907529722589168\n",
      "EPOCH: 14 , Training Loss: 0.020396965756745544 , Validation Loss: 1.5273969034690253 , Accuracy:  0.9894319682959049\n",
      "EPOCH: 15 , Training Loss: 0.025212310618371703 , Validation Loss: 0.7745020854205222 , Accuracy:  0.9933949801849405\n",
      "EPOCH: 16 , Training Loss: 0.006597783251294231 , Validation Loss: 1.037889404022792 , Accuracy:  0.988110964332893\n",
      "EPOCH: 17 , Training Loss: 0.017766646126119667 , Validation Loss: 0.9050704067670381 , Accuracy:  0.9920739762219286\n",
      "EPOCH: 18 , Training Loss: 0.014268843219610972 , Validation Loss: 1.0834141671217026 , Accuracy:  0.9920739762219286\n",
      "EPOCH: 19 , Training Loss: 0.02027741605746769 , Validation Loss: 0.8026340383697743 , Accuracy:  0.9933949801849405\n"
     ]
    }
   ],
   "source": [
    "total_epoch = 20\n",
    "best_epoch = 0\n",
    "training_losses = []\n",
    "val_losses = []\n",
    "\n",
    "for epoch in range(total_epoch):\n",
    "    \n",
    "    epoch_train_loss = 0\n",
    "    for X, y in train_loader:\n",
    "        \n",
    "        X, y = X.cuda(), y.cuda()\n",
    "        \n",
    "        optimizer.zero_grad()\n",
    "        result = model(X)\n",
    "        loss = criterion(result, y)\n",
    "        epoch_train_loss += loss.item()\n",
    "        loss.backward()\n",
    "        optimizer.step()\n",
    "      \n",
    "    training_losses.append(epoch_train_loss)\n",
    "    \n",
    "    \n",
    "    epoch_val_loss = 0\n",
    "    correct = 0\n",
    "    total = 0\n",
    "    \n",
    "    with torch.no_grad():\n",
    "        for X, y in val_loader:\n",
    "            \n",
    "            X, y = X.cuda(), y.cuda()\n",
    "             \n",
    "            result = model(X)\n",
    "            loss = criterion(result, y)\n",
    "            epoch_val_loss += loss.item()\n",
    "            _, maximum = torch.max(result.data, 1)\n",
    "            total += y.size(0)\n",
    "            correct += (maximum == y).sum().item()\n",
    "            \n",
    "    val_losses.append(epoch_val_loss)\n",
    "    accuracy = correct/total\n",
    "    print(\"EPOCH:\", epoch, \", Training Loss:\", epoch_train_loss, \", Validation Loss:\", epoch_val_loss, \", Accuracy: \", accuracy)\n",
    "    \n",
    "    \n",
    "    if min(val_losses) == val_losses[-1]:\n",
    "        best_epoch = epoch\n",
    "        checkpoint = {'model': model,\n",
    "                            'state_dict': model.state_dict(),\n",
    "                            'optimizer' : optimizer.state_dict()}\n",
    "\n",
    "        torch.save(checkpoint, models_dir + '{}.pth'.format(epoch))\n",
    "        print(\"Model saved\")"
   ]
  },
  {
   "cell_type": "code",
   "execution_count": 0,
   "metadata": {
    "colab": {},
    "colab_type": "code",
    "id": "E_3ebaD0Nrui"
   },
   "outputs": [],
   "source": []
  }
 ],
 "metadata": {
  "accelerator": "GPU",
  "colab": {
   "authorship_tag": "ABX9TyOQqSEsbRJ7r16UApPa4Cdj",
   "mount_file_id": "1sHYZRa-N4eO5Ue4kZ432w7ClO78aHdrF",
   "name": "MaskDetectionResNet.ipynb",
   "provenance": []
  },
  "kernelspec": {
   "display_name": "Python 3",
   "language": "python",
   "name": "python3"
  },
  "language_info": {
   "codemirror_mode": {
    "name": "ipython",
    "version": 3
   },
   "file_extension": ".py",
   "mimetype": "text/x-python",
   "name": "python",
   "nbconvert_exporter": "python",
   "pygments_lexer": "ipython3",
   "version": "3.8.2"
  }
 },
 "nbformat": 4,
 "nbformat_minor": 1
}
